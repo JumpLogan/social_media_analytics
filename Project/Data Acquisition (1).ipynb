{
 "cells": [
  {
   "cell_type": "code",
   "execution_count": 1,
   "metadata": {},
   "outputs": [],
   "source": [
    "import tweepy as tw\n",
    "import pandas as pd \n",
    "import os\n",
    "  "
   ]
  },
  {
   "cell_type": "code",
   "execution_count": 37,
   "metadata": {},
   "outputs": [],
   "source": [
    "consumer_key = 'Wk8EGJubNo0X6r8ght6bjvIcS'\n",
    "consumer_secret = \"45FvGtUm4CrCxW3jbJctogWB5Bj9pz2SzLhrUdHYjV8xqOMnP0\"\n",
    "access_token = \"1030506160191877121-WOyqfY1lY79LHvolQBP5ABxTawieXm\"\n",
    "access_token_secret = \"QWuvNp6WEKnMldRxQ3IyiQQcN6bgkJJoxpna7IpXFi9RI\"\n",
    "\n",
    "auth = tw.OAuthHandler(consumer_key, consumer_secret)\n",
    "auth.set_access_token(access_token, access_token_secret)\n",
    "api = tw.API(auth, wait_on_rate_limit=True)"
   ]
  },
  {
   "cell_type": "code",
   "execution_count": 42,
   "metadata": {},
   "outputs": [],
   "source": [
    "search_words = \"#demdebate\"\n",
    "date_since = \"2020-01-01\"\n",
    "x = 1 "
   ]
  },
  {
   "cell_type": "code",
   "execution_count": 31,
   "metadata": {},
   "outputs": [],
   "source": [
    "new_df = pd.DataFrame(columns=['user', \"location\",'tweet','created_at'])"
   ]
  },
  {
   "cell_type": "code",
   "execution_count": null,
   "metadata": {},
   "outputs": [],
   "source": [
    "\n",
    "tweets = tw.Cursor(api.search, \n",
    "                           q=search_words,\n",
    "                           lang=\"en\",\n",
    "                           since=date_since,  tweet_mode=\"extended\" ).items(1000)\n",
    "\n",
    "users_locs = [[tweet.user.screen_name, tweet.user.location,tweet.full_text,tweet.created_at] for tweet in tweets]\n",
    "\n",
    "\n",
    "tweet_ori = pd.DataFrame(data=users_locs, \n",
    "                    columns=['user', \"location\",'tweet','created_at'])\n",
    "\n",
    "#file_name = '/Users/Aifaz/Desktop/tweets_' + str(i) +'.csv'\n",
    "new_df = new_df.append(tweet_ori)\n",
    "new_df.drop_duplicates(inplace = True)\n",
    "\n",
    "\n",
    "    #tweet_ori.to_csv(file_name)"
   ]
  },
  {
   "cell_type": "code",
   "execution_count": null,
   "metadata": {},
   "outputs": [],
   "source": [
    "new_df = new_df.append(tweet_ori)\n",
    "new_df.drop_duplicates(inplace = True)\n",
    "new_df"
   ]
  },
  {
   "cell_type": "code",
   "execution_count": 19,
   "metadata": {},
   "outputs": [
    {
     "data": {
      "text/plain": [
       "user                                               luizhsrodrigues\n",
       "location                                           Niterói, Brasil\n",
       "tweet            RT @USA_Polling: Leader of the Last 10 Unique ...\n",
       "created_at                                     2020-02-18 17:01:02\n",
       "followers                                                      376\n",
       "listed_count                                                    18\n",
       "friends_count                                                 2712\n",
       "Name: 0, dtype: object"
      ]
     },
     "execution_count": 19,
     "metadata": {},
     "output_type": "execute_result"
    }
   ],
   "source": [
    "new_df.iloc[0]"
   ]
  },
  {
   "cell_type": "code",
   "execution_count": null,
   "metadata": {},
   "outputs": [],
   "source": []
  }
 ],
 "metadata": {
  "kernelspec": {
   "display_name": "Python 3",
   "language": "python",
   "name": "python3"
  },
  "language_info": {
   "codemirror_mode": {
    "name": "ipython",
    "version": 3
   },
   "file_extension": ".py",
   "mimetype": "text/x-python",
   "name": "python",
   "nbconvert_exporter": "python",
   "pygments_lexer": "ipython3",
   "version": "3.7.4"
  }
 },
 "nbformat": 4,
 "nbformat_minor": 2
}
