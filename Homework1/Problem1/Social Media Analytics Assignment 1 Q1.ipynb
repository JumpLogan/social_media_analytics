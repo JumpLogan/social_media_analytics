{
 "cells": [
  {
   "cell_type": "code",
   "execution_count": 27,
   "metadata": {},
   "outputs": [
    {
     "name": "stdout",
     "output_type": "stream",
     "text": [
      "Populating the interactive namespace from numpy and matplotlib\n"
     ]
    }
   ],
   "source": [
    "#The goal of the challenge is to train a machine learning model which, for a pair of individuals, \n",
    "#predicts the human judgement on who is more influential with high accuracy.\n",
    "\n",
    "from pandas import Series, DataFrame\n",
    "import pandas as pd\n",
    "%pylab inline\n",
    "\n",
    "import pandas as pd\n",
    "import numpy as np\n",
    "from sklearn import preprocessing\n",
    "import matplotlib.pyplot as plt \n",
    "plt.rc(\"font\", size=14)\n",
    "from sklearn.linear_model import LogisticRegression\n",
    "from sklearn.model_selection import train_test_split\n",
    "import seaborn as sns\n",
    "sns.set(style=\"white\")\n",
    "sns.set(style=\"whitegrid\", color_codes=True)\n",
    "import statsmodels.api as sm\n"
   ]
  },
  {
   "cell_type": "code",
   "execution_count": 3,
   "metadata": {},
   "outputs": [],
   "source": [
    "df = pd.read_csv('train.csv')"
   ]
  },
  {
   "cell_type": "code",
   "execution_count": 12,
   "metadata": {},
   "outputs": [
    {
     "data": {
      "text/html": [
       "<div>\n",
       "<style scoped>\n",
       "    .dataframe tbody tr th:only-of-type {\n",
       "        vertical-align: middle;\n",
       "    }\n",
       "\n",
       "    .dataframe tbody tr th {\n",
       "        vertical-align: top;\n",
       "    }\n",
       "\n",
       "    .dataframe thead th {\n",
       "        text-align: right;\n",
       "    }\n",
       "</style>\n",
       "<table border=\"1\" class=\"dataframe\">\n",
       "  <thead>\n",
       "    <tr style=\"text-align: right;\">\n",
       "      <th></th>\n",
       "      <th>Choice</th>\n",
       "      <th>A_follower_count</th>\n",
       "      <th>A_following_count</th>\n",
       "      <th>A_listed_count</th>\n",
       "      <th>A_mentions_received</th>\n",
       "      <th>A_retweets_received</th>\n",
       "      <th>A_mentions_sent</th>\n",
       "      <th>A_retweets_sent</th>\n",
       "      <th>A_posts</th>\n",
       "      <th>A_network_feature_1</th>\n",
       "      <th>...</th>\n",
       "      <th>B_following_count</th>\n",
       "      <th>B_listed_count</th>\n",
       "      <th>B_mentions_received</th>\n",
       "      <th>B_retweets_received</th>\n",
       "      <th>B_mentions_sent</th>\n",
       "      <th>B_retweets_sent</th>\n",
       "      <th>B_posts</th>\n",
       "      <th>B_network_feature_1</th>\n",
       "      <th>B_network_feature_2</th>\n",
       "      <th>B_network_feature_3</th>\n",
       "    </tr>\n",
       "  </thead>\n",
       "  <tbody>\n",
       "    <tr>\n",
       "      <td>0</td>\n",
       "      <td>0</td>\n",
       "      <td>228</td>\n",
       "      <td>302</td>\n",
       "      <td>3</td>\n",
       "      <td>0.583979</td>\n",
       "      <td>0.100503</td>\n",
       "      <td>0.100503</td>\n",
       "      <td>0.100503</td>\n",
       "      <td>0.362150</td>\n",
       "      <td>2</td>\n",
       "      <td>...</td>\n",
       "      <td>29808</td>\n",
       "      <td>1689</td>\n",
       "      <td>15.430498</td>\n",
       "      <td>3.984029</td>\n",
       "      <td>8.204331</td>\n",
       "      <td>0.332423</td>\n",
       "      <td>6.988815</td>\n",
       "      <td>66</td>\n",
       "      <td>75.530303</td>\n",
       "      <td>1916.893939</td>\n",
       "    </tr>\n",
       "    <tr>\n",
       "      <td>1</td>\n",
       "      <td>0</td>\n",
       "      <td>21591</td>\n",
       "      <td>1179</td>\n",
       "      <td>228</td>\n",
       "      <td>90.456506</td>\n",
       "      <td>25.798292</td>\n",
       "      <td>5.709329</td>\n",
       "      <td>1.111159</td>\n",
       "      <td>5.176620</td>\n",
       "      <td>369</td>\n",
       "      <td>...</td>\n",
       "      <td>848</td>\n",
       "      <td>1610</td>\n",
       "      <td>40.495021</td>\n",
       "      <td>8.943607</td>\n",
       "      <td>3.227677</td>\n",
       "      <td>0.564343</td>\n",
       "      <td>1.070321</td>\n",
       "      <td>163</td>\n",
       "      <td>132.030675</td>\n",
       "      <td>2931.515337</td>\n",
       "    </tr>\n",
       "    <tr>\n",
       "      <td>2</td>\n",
       "      <td>0</td>\n",
       "      <td>7310</td>\n",
       "      <td>1215</td>\n",
       "      <td>101</td>\n",
       "      <td>25.503644</td>\n",
       "      <td>9.556347</td>\n",
       "      <td>5.361519</td>\n",
       "      <td>0.591206</td>\n",
       "      <td>3.589718</td>\n",
       "      <td>95</td>\n",
       "      <td>...</td>\n",
       "      <td>482</td>\n",
       "      <td>206</td>\n",
       "      <td>0.734696</td>\n",
       "      <td>0.354379</td>\n",
       "      <td>0.603202</td>\n",
       "      <td>0.100503</td>\n",
       "      <td>0.603202</td>\n",
       "      <td>3</td>\n",
       "      <td>10.333333</td>\n",
       "      <td>277.333333</td>\n",
       "    </tr>\n",
       "    <tr>\n",
       "      <td>3</td>\n",
       "      <td>0</td>\n",
       "      <td>20</td>\n",
       "      <td>7</td>\n",
       "      <td>2</td>\n",
       "      <td>7.690824</td>\n",
       "      <td>0.277306</td>\n",
       "      <td>1.331508</td>\n",
       "      <td>0.100503</td>\n",
       "      <td>2.830627</td>\n",
       "      <td>6</td>\n",
       "      <td>...</td>\n",
       "      <td>17637</td>\n",
       "      <td>278</td>\n",
       "      <td>572.874856</td>\n",
       "      <td>390.293681</td>\n",
       "      <td>27.552040</td>\n",
       "      <td>7.167557</td>\n",
       "      <td>32.101906</td>\n",
       "      <td>1762</td>\n",
       "      <td>23.469296</td>\n",
       "      <td>1395.845634</td>\n",
       "    </tr>\n",
       "    <tr>\n",
       "      <td>4</td>\n",
       "      <td>1</td>\n",
       "      <td>45589</td>\n",
       "      <td>862</td>\n",
       "      <td>2641</td>\n",
       "      <td>148.854279</td>\n",
       "      <td>36.998884</td>\n",
       "      <td>27.881768</td>\n",
       "      <td>3.333492</td>\n",
       "      <td>23.861282</td>\n",
       "      <td>551</td>\n",
       "      <td>...</td>\n",
       "      <td>1711</td>\n",
       "      <td>181</td>\n",
       "      <td>21.601866</td>\n",
       "      <td>3.581661</td>\n",
       "      <td>6.764657</td>\n",
       "      <td>1.119727</td>\n",
       "      <td>4.563246</td>\n",
       "      <td>85</td>\n",
       "      <td>48.500000</td>\n",
       "      <td>1993.627907</td>\n",
       "    </tr>\n",
       "  </tbody>\n",
       "</table>\n",
       "<p>5 rows × 23 columns</p>\n",
       "</div>"
      ],
      "text/plain": [
       "   Choice  A_follower_count  A_following_count  A_listed_count  \\\n",
       "0       0               228                302               3   \n",
       "1       0             21591               1179             228   \n",
       "2       0              7310               1215             101   \n",
       "3       0                20                  7               2   \n",
       "4       1             45589                862            2641   \n",
       "\n",
       "   A_mentions_received  A_retweets_received  A_mentions_sent  A_retweets_sent  \\\n",
       "0             0.583979             0.100503         0.100503         0.100503   \n",
       "1            90.456506            25.798292         5.709329         1.111159   \n",
       "2            25.503644             9.556347         5.361519         0.591206   \n",
       "3             7.690824             0.277306         1.331508         0.100503   \n",
       "4           148.854279            36.998884        27.881768         3.333492   \n",
       "\n",
       "     A_posts  A_network_feature_1  ...  B_following_count  B_listed_count  \\\n",
       "0   0.362150                    2  ...              29808            1689   \n",
       "1   5.176620                  369  ...                848            1610   \n",
       "2   3.589718                   95  ...                482             206   \n",
       "3   2.830627                    6  ...              17637             278   \n",
       "4  23.861282                  551  ...               1711             181   \n",
       "\n",
       "   B_mentions_received  B_retweets_received  B_mentions_sent  B_retweets_sent  \\\n",
       "0            15.430498             3.984029         8.204331         0.332423   \n",
       "1            40.495021             8.943607         3.227677         0.564343   \n",
       "2             0.734696             0.354379         0.603202         0.100503   \n",
       "3           572.874856           390.293681        27.552040         7.167557   \n",
       "4            21.601866             3.581661         6.764657         1.119727   \n",
       "\n",
       "     B_posts  B_network_feature_1  B_network_feature_2  B_network_feature_3  \n",
       "0   6.988815                   66            75.530303          1916.893939  \n",
       "1   1.070321                  163           132.030675          2931.515337  \n",
       "2   0.603202                    3            10.333333           277.333333  \n",
       "3  32.101906                 1762            23.469296          1395.845634  \n",
       "4   4.563246                   85            48.500000          1993.627907  \n",
       "\n",
       "[5 rows x 23 columns]"
      ]
     },
     "execution_count": 12,
     "metadata": {},
     "output_type": "execute_result"
    }
   ],
   "source": [
    "df.head()"
   ]
  },
  {
   "cell_type": "code",
   "execution_count": 11,
   "metadata": {},
   "outputs": [
    {
     "data": {
      "text/plain": [
       "Index(['Choice', 'A_follower_count', 'A_following_count', 'A_listed_count',\n",
       "       'A_mentions_received', 'A_retweets_received', 'A_mentions_sent',\n",
       "       'A_retweets_sent', 'A_posts', 'A_network_feature_1',\n",
       "       'A_network_feature_2', 'A_network_feature_3', 'B_follower_count',\n",
       "       'B_following_count', 'B_listed_count', 'B_mentions_received',\n",
       "       'B_retweets_received', 'B_mentions_sent', 'B_retweets_sent', 'B_posts',\n",
       "       'B_network_feature_1', 'B_network_feature_2', 'B_network_feature_3'],\n",
       "      dtype='object')"
      ]
     },
     "execution_count": 11,
     "metadata": {},
     "output_type": "execute_result"
    }
   ],
   "source": [
    "df.columns"
   ]
  },
  {
   "cell_type": "code",
   "execution_count": 26,
   "metadata": {},
   "outputs": [
    {
     "data": {
      "text/plain": [
       "1043       53\n",
       "127        50\n",
       "794        40\n",
       "1352348    37\n",
       "5151       33\n",
       "           ..\n",
       "29320       1\n",
       "686         1\n",
       "694         1\n",
       "706         1\n",
       "16          1\n",
       "Name: A_follower_count, Length: 759, dtype: int64"
      ]
     },
     "execution_count": 26,
     "metadata": {},
     "output_type": "execute_result"
    }
   ],
   "source": [
    "df['A_follower_count'].value_counts()"
   ]
  },
  {
   "cell_type": "code",
   "execution_count": 30,
   "metadata": {},
   "outputs": [
    {
     "data": {
      "text/plain": [
       "1    2802\n",
       "0    2698\n",
       "Name: Choice, dtype: int64"
      ]
     },
     "execution_count": 30,
     "metadata": {},
     "output_type": "execute_result"
    }
   ],
   "source": [
    "df['Choice'].value_counts()"
   ]
  },
  {
   "cell_type": "code",
   "execution_count": 20,
   "metadata": {},
   "outputs": [],
   "source": [
    "df2 = df[['A_follower_count', 'A_listed_count', \n",
    "             'A_retweets_received','A_posts','A_network_feature_2','B_follower_count',\n",
    "             'B_listed_count','B_retweets_received','B_posts','B_network_feature_2']]"
   ]
  },
  {
   "cell_type": "code",
   "execution_count": 32,
   "metadata": {},
   "outputs": [
    {
     "name": "stdout",
     "output_type": "stream",
     "text": [
      "Optimization terminated successfully.\n",
      "         Current function value: 0.591205\n",
      "         Iterations 8\n",
      "                           Results: Logit\n",
      "====================================================================\n",
      "Model:                Logit            Pseudo R-squared: 0.147      \n",
      "Dependent Variable:   Choice           AIC:              6523.2574  \n",
      "Date:                 2020-02-05 01:00 BIC:              6589.3824  \n",
      "No. Observations:     5500             Log-Likelihood:   -3251.6    \n",
      "Df Model:             9                LL-Null:          -3811.3    \n",
      "Df Residuals:         5490             LLR p-value:      3.0296e-235\n",
      "Converged:            1.0000           Scale:            1.0000     \n",
      "No. Iterations:       8.0000                                        \n",
      "--------------------------------------------------------------------\n",
      "                     Coef.  Std.Err.    z     P>|z|   [0.025  0.975]\n",
      "--------------------------------------------------------------------\n",
      "A_follower_count     0.0000   0.0000   2.5302 0.0114  0.0000  0.0000\n",
      "A_listed_count       0.0001   0.0000  13.5086 0.0000  0.0001  0.0001\n",
      "A_retweets_received -0.0000   0.0000  -7.2766 0.0000 -0.0001 -0.0000\n",
      "A_posts              0.0140   0.0019   7.3014 0.0000  0.0102  0.0178\n",
      "A_network_feature_2  0.0022   0.0003   8.4139 0.0000  0.0017  0.0028\n",
      "B_follower_count     0.0000   0.0000   2.4417 0.0146  0.0000  0.0000\n",
      "B_listed_count      -0.0001   0.0000 -16.5413 0.0000 -0.0001 -0.0001\n",
      "B_retweets_received -0.0000   0.0000  -1.7876 0.0738 -0.0000  0.0000\n",
      "B_posts             -0.0083   0.0017  -5.0084 0.0000 -0.0116 -0.0051\n",
      "B_network_feature_2 -0.0015   0.0003  -5.8736 0.0000 -0.0020 -0.0010\n",
      "====================================================================\n",
      "\n"
     ]
    }
   ],
   "source": [
    "logit_model=LogisticRegression()(df['Choice'],df2)\n",
    "result=logit_model.fit()\n",
    "\n",
    "print(result.summary2())"
   ]
  },
  {
   "cell_type": "code",
   "execution_count": 39,
   "metadata": {},
   "outputs": [
    {
     "name": "stdout",
     "output_type": "stream",
     "text": [
      "Optimization terminated successfully.\n",
      "         Current function value: 0.617479\n",
      "         Iterations 6\n",
      "                           Results: Logit\n",
      "====================================================================\n",
      "Model:                Logit            Pseudo R-squared: 0.109      \n",
      "Dependent Variable:   Choice           AIC:              6806.2714  \n",
      "Date:                 2020-02-05 01:02 BIC:              6852.5589  \n",
      "No. Observations:     5500             Log-Likelihood:   -3396.1    \n",
      "Df Model:             6                LL-Null:          -3811.3    \n",
      "Df Residuals:         5493             LLR p-value:      4.1940e-176\n",
      "Converged:            1.0000           Scale:            1.0000     \n",
      "No. Iterations:       6.0000                                        \n",
      "--------------------------------------------------------------------\n",
      "                     Coef.  Std.Err.    z     P>|z|   [0.025  0.975]\n",
      "--------------------------------------------------------------------\n",
      "A_follower_count     0.0000   0.0000  13.8708 0.0000  0.0000  0.0000\n",
      "A_retweets_received -0.0000   0.0000  -5.5594 0.0000 -0.0000 -0.0000\n",
      "A_network_feature_2  0.0029   0.0003  10.9394 0.0000  0.0024  0.0034\n",
      "B_follower_count     0.0000   0.0000   3.1316 0.0017  0.0000  0.0000\n",
      "B_listed_count      -0.0001   0.0000 -15.5433 0.0000 -0.0001 -0.0001\n",
      "B_retweets_received -0.0000   0.0000  -2.5417 0.0110 -0.0000 -0.0000\n",
      "B_network_feature_2 -0.0010   0.0002  -4.1486 0.0000 -0.0015 -0.0005\n",
      "====================================================================\n",
      "\n"
     ]
    }
   ],
   "source": [
    "df3 = df[['A_follower_count','A_retweets_received','A_network_feature_2','B_follower_count',\n",
    "        'B_listed_count','B_retweets_received','B_network_feature_2']]\n",
    "\n",
    "logit_model=sm.Logit(df['Choice'],df3)\n",
    "result=logit_model.fit()\n",
    "\n",
    "print(result.summary2())"
   ]
  },
  {
   "cell_type": "code",
   "execution_count": 57,
   "metadata": {},
   "outputs": [],
   "source": [
    "df['A_Retweet_to_Post_Ratio'] = df['A_retweets_received']/df['A_posts']\n",
    "df['B_Retweet_to_Post_Ratio'] = df['B_retweets_received']/df['B_posts']\n",
    "\n",
    "df['A_Retweet_to_Followers_Ratio'] = df['A_retweets_received']/df['A_follower_count']\n",
    "df['B_Retweet_to_Followers_Ratio'] = df['B_retweets_received']/df['B_follower_count']"
   ]
  },
  {
   "cell_type": "code",
   "execution_count": 60,
   "metadata": {},
   "outputs": [
    {
     "name": "stdout",
     "output_type": "stream",
     "text": [
      "Optimization terminated successfully.\n",
      "         Current function value: 0.651992\n",
      "         Iterations 7\n",
      "                                Results: Logit\n",
      "===============================================================================\n",
      "Model:                    Logit                Pseudo R-squared:     0.059     \n",
      "Dependent Variable:       Choice               AIC:                  7183.9087 \n",
      "Date:                     2020-02-05 01:10     BIC:                  7223.5837 \n",
      "No. Observations:         5500                 Log-Likelihood:       -3586.0   \n",
      "Df Model:                 5                    LL-Null:              -3811.3   \n",
      "Df Residuals:             5494                 LLR p-value:          3.3952e-95\n",
      "Converged:                1.0000               Scale:                1.0000    \n",
      "No. Iterations:           7.0000                                               \n",
      "-------------------------------------------------------------------------------\n",
      "                              Coef.   Std.Err.    z     P>|z|   [0.025   0.975]\n",
      "-------------------------------------------------------------------------------\n",
      "A_follower_count               0.0000   0.0000  12.1812 0.0000   0.0000  0.0000\n",
      "A_Retweet_to_Post_Ratio       -0.0001   0.0000  -4.4664 0.0000  -0.0002 -0.0001\n",
      "A_Retweet_to_Followers_Ratio -25.8488  10.2348  -2.5256 0.0116 -45.9086 -5.7891\n",
      "B_follower_count              -0.0000   0.0000 -12.0997 0.0000  -0.0000 -0.0000\n",
      "B_Retweet_to_Post_Ratio        0.0001   0.0000   2.0763 0.0379   0.0000  0.0001\n",
      "B_Retweet_to_Followers_Ratio  21.0485  10.6069   1.9844 0.0472   0.2594 41.8376\n",
      "===============================================================================\n",
      "\n"
     ]
    }
   ],
   "source": [
    "df4 = df[['A_follower_count','A_Retweet_to_Post_Ratio','A_Retweet_to_Followers_Ratio','B_follower_count',\n",
    "        'B_Retweet_to_Post_Ratio','B_Retweet_to_Followers_Ratio']]\n",
    "\n",
    "logit_model=sm.Logit(df['Choice'],df4)\n",
    "result=logit_model.fit()\n",
    "\n",
    "print(result.summary2())"
   ]
  },
  {
   "cell_type": "code",
   "execution_count": 61,
   "metadata": {},
   "outputs": [
    {
     "name": "stdout",
     "output_type": "stream",
     "text": [
      "Optimization terminated successfully.\n",
      "         Current function value: 0.650524\n",
      "         Iterations 7\n",
      "                                Results: Logit\n",
      "===============================================================================\n",
      "Model:                    Logit                Pseudo R-squared:     0.061     \n",
      "Dependent Variable:       Choice               AIC:                  7171.7618 \n",
      "Date:                     2020-02-05 01:12     BIC:                  7224.6618 \n",
      "No. Observations:         5500                 Log-Likelihood:       -3577.9   \n",
      "Df Model:                 7                    LL-Null:              -3811.3   \n",
      "Df Residuals:             5492                 LLR p-value:          1.0460e-96\n",
      "Converged:                1.0000               Scale:                1.0000    \n",
      "No. Iterations:           7.0000                                               \n",
      "-------------------------------------------------------------------------------\n",
      "                              Coef.   Std.Err.    z     P>|z|   [0.025   0.975]\n",
      "-------------------------------------------------------------------------------\n",
      "A_follower_count               0.0000   0.0000  12.2584 0.0000   0.0000  0.0000\n",
      "A_Retweet_to_Post_Ratio       -0.0001   0.0000  -2.7971 0.0052  -0.0002 -0.0000\n",
      "A_Retweet_to_Followers_Ratio -23.1386  10.3988  -2.2251 0.0261 -43.5200 -2.7573\n",
      "B_follower_count              -0.0000   0.0000 -10.5537 0.0000  -0.0000 -0.0000\n",
      "B_Retweet_to_Post_Ratio        0.0001   0.0000   3.7317 0.0002   0.0001  0.0002\n",
      "B_Retweet_to_Followers_Ratio  34.8370  11.6302   2.9954 0.0027  12.0423 57.6317\n",
      "A_retweets_received           -0.0000   0.0000  -2.0037 0.0451  -0.0000 -0.0000\n",
      "B_retweets_received           -0.0000   0.0000  -3.4334 0.0006  -0.0001 -0.0000\n",
      "===============================================================================\n",
      "\n"
     ]
    }
   ],
   "source": [
    "df4 = df[['A_follower_count','A_Retweet_to_Post_Ratio','A_Retweet_to_Followers_Ratio','B_follower_count',\n",
    "        'B_Retweet_to_Post_Ratio','B_Retweet_to_Followers_Ratio','A_retweets_received','B_retweets_received']]\n",
    "\n",
    "logit_model=sm.Logit(df['Choice'],df4)\n",
    "result=logit_model.fit()\n",
    "\n",
    "print(result.summary2())"
   ]
  },
  {
   "cell_type": "code",
   "execution_count": null,
   "metadata": {},
   "outputs": [],
   "source": []
  }
 ],
 "metadata": {
  "kernelspec": {
   "display_name": "Python 3",
   "language": "python",
   "name": "python3"
  },
  "language_info": {
   "codemirror_mode": {
    "name": "ipython",
    "version": 3
   },
   "file_extension": ".py",
   "mimetype": "text/x-python",
   "name": "python",
   "nbconvert_exporter": "python",
   "pygments_lexer": "ipython3",
   "version": "3.7.4"
  }
 },
 "nbformat": 4,
 "nbformat_minor": 2
}
