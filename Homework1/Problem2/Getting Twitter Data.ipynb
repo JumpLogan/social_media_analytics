{
 "cells": [
  {
   "cell_type": "code",
   "execution_count": 46,
   "metadata": {},
   "outputs": [],
   "source": [
    "import tweepy as tw\n",
    "import pandas as pd \n",
    "import os\n",
    "\n",
    "\n",
    "consumer_key = 'Wk8EGJubNo0X6r8ght6bjvIcS'\n",
    "consumer_secret = \"45FvGtUm4CrCxW3jbJctogWB5Bj9pz2SzLhrUdHYjV8xqOMnP0\"\n",
    "access_token = \"1030506160191877121-WOyqfY1lY79LHvolQBP5ABxTawieXm\"\n",
    "access_token_secret = \"QWuvNp6WEKnMldRxQ3IyiQQcN6bgkJJoxpna7IpXFi9RI\"\n",
    "  "
   ]
  },
  {
   "cell_type": "code",
   "execution_count": 47,
   "metadata": {},
   "outputs": [],
   "source": [
    "auth = tw.OAuthHandler(consumer_key, consumer_secret)\n",
    "auth.set_access_token(access_token, access_token_secret)\n",
    "api = tw.API(auth, wait_on_rate_limit=True)"
   ]
  },
  {
   "cell_type": "code",
   "execution_count": 48,
   "metadata": {},
   "outputs": [],
   "source": [
    "search_words = \"#coronavirus\"\n",
    "date_since = \"2019-11-01\""
   ]
  },
  {
   "cell_type": "code",
   "execution_count": 51,
   "metadata": {},
   "outputs": [],
   "source": [
    "tweets = tw.Cursor(api.search, \n",
    "                           q=search_words,\n",
    "                           lang=\"en\",\n",
    "                           since=date_since).items(5000)\n",
    "\n",
    "users_locs = [[tweet.user.screen_name, tweet.user.location,tweet.text,tweet.created_at] for tweet in tweets]\n"
   ]
  },
  {
   "cell_type": "code",
   "execution_count": 88,
   "metadata": {},
   "outputs": [
    {
     "data": {
      "text/html": [
       "<div>\n",
       "<style scoped>\n",
       "    .dataframe tbody tr th:only-of-type {\n",
       "        vertical-align: middle;\n",
       "    }\n",
       "\n",
       "    .dataframe tbody tr th {\n",
       "        vertical-align: top;\n",
       "    }\n",
       "\n",
       "    .dataframe thead th {\n",
       "        text-align: right;\n",
       "    }\n",
       "</style>\n",
       "<table border=\"1\" class=\"dataframe\">\n",
       "  <thead>\n",
       "    <tr style=\"text-align: right;\">\n",
       "      <th></th>\n",
       "      <th>user</th>\n",
       "      <th>location</th>\n",
       "      <th>tweet</th>\n",
       "      <th>created_at</th>\n",
       "    </tr>\n",
       "  </thead>\n",
       "  <tbody>\n",
       "    <tr>\n",
       "      <td>0</td>\n",
       "      <td>EvilMorty242420</td>\n",
       "      <td></td>\n",
       "      <td>RT @Stats_Alerts: BREAKING:\\n20 French citizen...</td>\n",
       "      <td>2020-02-02 20:15:38</td>\n",
       "    </tr>\n",
       "    <tr>\n",
       "      <td>1</td>\n",
       "      <td>BruceCr01405174</td>\n",
       "      <td>Queensland, Australia</td>\n",
       "      <td>RT @RDNS_TAI: Last week #scottyfrommarketting ...</td>\n",
       "      <td>2020-02-02 20:15:37</td>\n",
       "    </tr>\n",
       "    <tr>\n",
       "      <td>2</td>\n",
       "      <td>WDEL</td>\n",
       "      <td>Wilmington, DE</td>\n",
       "      <td>RT @acherry13: #BREAKING | Delaware resident t...</td>\n",
       "      <td>2020-02-02 20:15:37</td>\n",
       "    </tr>\n",
       "    <tr>\n",
       "      <td>3</td>\n",
       "      <td>TadofMiami</td>\n",
       "      <td></td>\n",
       "      <td>RT @jenniferatntd: Notice about stock market i...</td>\n",
       "      <td>2020-02-02 20:15:37</td>\n",
       "    </tr>\n",
       "    <tr>\n",
       "      <td>4</td>\n",
       "      <td>RobertoDreamer</td>\n",
       "      <td>Peru</td>\n",
       "      <td>RT @PDChina: The #1st death outside China from...</td>\n",
       "      <td>2020-02-02 20:15:37</td>\n",
       "    </tr>\n",
       "    <tr>\n",
       "      <td>...</td>\n",
       "      <td>...</td>\n",
       "      <td>...</td>\n",
       "      <td>...</td>\n",
       "      <td>...</td>\n",
       "    </tr>\n",
       "    <tr>\n",
       "      <td>4995</td>\n",
       "      <td>willarosehip</td>\n",
       "      <td></td>\n",
       "      <td>RT @maree_jun: A relative of mine from China j...</td>\n",
       "      <td>2020-02-02 19:33:49</td>\n",
       "    </tr>\n",
       "    <tr>\n",
       "      <td>4996</td>\n",
       "      <td>saltyjbk</td>\n",
       "      <td>Florida</td>\n",
       "      <td>RT @charlot57790100: Residents are being locke...</td>\n",
       "      <td>2020-02-02 19:33:47</td>\n",
       "    </tr>\n",
       "    <tr>\n",
       "      <td>4997</td>\n",
       "      <td>mohsin360FX</td>\n",
       "      <td>Edmonton, Alberta</td>\n",
       "      <td>RT @Jkylebass: 8 doctors in Wuhan identified t...</td>\n",
       "      <td>2020-02-02 19:33:47</td>\n",
       "    </tr>\n",
       "    <tr>\n",
       "      <td>4998</td>\n",
       "      <td>MikeBisson8</td>\n",
       "      <td></td>\n",
       "      <td>RT @SecAzar: At this time, the risk to America...</td>\n",
       "      <td>2020-02-02 19:33:47</td>\n",
       "    </tr>\n",
       "    <tr>\n",
       "      <td>4999</td>\n",
       "      <td>duffster007</td>\n",
       "      <td>Toronto, Ontario</td>\n",
       "      <td>RT @BradMBradford: Our community will not acce...</td>\n",
       "      <td>2020-02-02 19:33:47</td>\n",
       "    </tr>\n",
       "  </tbody>\n",
       "</table>\n",
       "<p>5000 rows × 4 columns</p>\n",
       "</div>"
      ],
      "text/plain": [
       "                 user                location  \\\n",
       "0     EvilMorty242420                           \n",
       "1     BruceCr01405174   Queensland, Australia   \n",
       "2                WDEL          Wilmington, DE   \n",
       "3          TadofMiami                           \n",
       "4      RobertoDreamer                    Peru   \n",
       "...               ...                     ...   \n",
       "4995     willarosehip                           \n",
       "4996         saltyjbk                 Florida   \n",
       "4997      mohsin360FX       Edmonton, Alberta   \n",
       "4998      MikeBisson8                           \n",
       "4999      duffster007        Toronto, Ontario   \n",
       "\n",
       "                                                  tweet          created_at  \n",
       "0     RT @Stats_Alerts: BREAKING:\\n20 French citizen... 2020-02-02 20:15:38  \n",
       "1     RT @RDNS_TAI: Last week #scottyfrommarketting ... 2020-02-02 20:15:37  \n",
       "2     RT @acherry13: #BREAKING | Delaware resident t... 2020-02-02 20:15:37  \n",
       "3     RT @jenniferatntd: Notice about stock market i... 2020-02-02 20:15:37  \n",
       "4     RT @PDChina: The #1st death outside China from... 2020-02-02 20:15:37  \n",
       "...                                                 ...                 ...  \n",
       "4995  RT @maree_jun: A relative of mine from China j... 2020-02-02 19:33:49  \n",
       "4996  RT @charlot57790100: Residents are being locke... 2020-02-02 19:33:47  \n",
       "4997  RT @Jkylebass: 8 doctors in Wuhan identified t... 2020-02-02 19:33:47  \n",
       "4998  RT @SecAzar: At this time, the risk to America... 2020-02-02 19:33:47  \n",
       "4999  RT @BradMBradford: Our community will not acce... 2020-02-02 19:33:47  \n",
       "\n",
       "[5000 rows x 4 columns]"
      ]
     },
     "execution_count": 88,
     "metadata": {},
     "output_type": "execute_result"
    }
   ],
   "source": [
    "tweet_ = pd.DataFrame(data=users_locs, \n",
    "                    columns=['user', \"location\",'tweet','created_at'])\n",
    "tweet_"
   ]
  },
  {
   "cell_type": "code",
   "execution_count": 89,
   "metadata": {},
   "outputs": [],
   "source": [
    "def original(tweet): \n",
    "    if tweet.split()[0] == 'RT': \n",
    "        return tweet.split()[1][1:-1]\n",
    "    return None \n",
    "\n",
    "tweet_['original_creator'] = tweet_['tweet'].map(original)"
   ]
  },
  {
   "cell_type": "code",
   "execution_count": 92,
   "metadata": {},
   "outputs": [],
   "source": [
    "def original(tweet): \n",
    "    if tweet.split()[0] == 'RT': \n",
    "        return 1\n",
    "    return 0 \n",
    "\n",
    "tweet_['retweet'] = tweet_['tweet'].map(retweet)"
   ]
  },
  {
   "cell_type": "code",
   "execution_count": 93,
   "metadata": {},
   "outputs": [
    {
     "data": {
      "text/plain": [
       "TomValletti       428\n",
       "RT_com            241\n",
       "sotiridi          133\n",
       "UNHumanRights     117\n",
       "CGTNOfficial       82\n",
       "                 ... \n",
       "InvincibleBull      1\n",
       "BasuAshis           1\n",
       "FixTheNation        1\n",
       "echewy              1\n",
       "NigeriaGov          1\n",
       "Name: original_creator, Length: 879, dtype: int64"
      ]
     },
     "execution_count": 93,
     "metadata": {},
     "output_type": "execute_result"
    }
   ],
   "source": [
    "tweet_['original_creator'].value_counts()"
   ]
  },
  {
   "cell_type": "code",
   "execution_count": 95,
   "metadata": {},
   "outputs": [
    {
     "data": {
      "text/plain": [
       "1    5000\n",
       "Name: retweet, dtype: int64"
      ]
     },
     "execution_count": 95,
     "metadata": {},
     "output_type": "execute_result"
    }
   ],
   "source": [
    "tweet_['retweet'].value_counts()"
   ]
  },
  {
   "cell_type": "code",
   "execution_count": 98,
   "metadata": {},
   "outputs": [
    {
     "data": {
      "text/plain": [
       "sumanebot          30\n",
       "bitcoinconnect     24\n",
       "beldandolo         23\n",
       "Sridhar85990867    14\n",
       "waterfall8888      12\n",
       "                   ..\n",
       "elle__keane         1\n",
       "CurrencyFM          1\n",
       "vicciho             1\n",
       "PreventionTips      1\n",
       "sxnflxwxer          1\n",
       "Name: user, Length: 4032, dtype: int64"
      ]
     },
     "execution_count": 98,
     "metadata": {},
     "output_type": "execute_result"
    }
   ],
   "source": [
    "tweet_['user'].value_counts()"
   ]
  },
  {
   "cell_type": "code",
   "execution_count": 100,
   "metadata": {},
   "outputs": [],
   "source": [
    "tweet_.to_csv('tweets.csv')"
   ]
  },
  {
   "cell_type": "code",
   "execution_count": null,
   "metadata": {},
   "outputs": [],
   "source": []
  }
 ],
 "metadata": {
  "kernelspec": {
   "display_name": "Python 3",
   "language": "python",
   "name": "python3"
  },
  "language_info": {
   "codemirror_mode": {
    "name": "ipython",
    "version": 3
   },
   "file_extension": ".py",
   "mimetype": "text/x-python",
   "name": "python",
   "nbconvert_exporter": "python",
   "pygments_lexer": "ipython3",
   "version": "3.7.4"
  }
 },
 "nbformat": 4,
 "nbformat_minor": 2
}
